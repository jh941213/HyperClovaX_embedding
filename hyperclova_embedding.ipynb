{
 "cells": [
  {
   "cell_type": "code",
   "execution_count": null,
   "metadata": {},
   "outputs": [],
   "source": [
    "from hyper_embed import hyperclovaEmbedding\n",
    "from langchain.vectorstores import FAISS\n",
    "from langchain.docstore.document import Document\n",
    "from langchain.embeddings.base import Embeddings\n",
    "\n",
    "#가정은 Document 객체가 이미 생성되어 있다고 가정하고 진행합니다.\n",
    "\n",
    "class PrecomputedEmbeddings(Embeddings):\n",
    "    def __init__(self, embeddings, hyper_clova_instance):\n",
    "        self._embeddings = embeddings\n",
    "        self._hyper_clova = hyper_clova_instance\n",
    "        \n",
    "    def embed_documents(self, texts):\n",
    "        return self._embeddings\n",
    "    \n",
    "    def embed_query(self, text):\n",
    "        request_data = {\"text\": text}\n",
    "        return self._hyper_clova.execute(request_data)\n",
    "\n",
    "# hyperclovaEmbedding 인스턴스 생성\n",
    "hyper_clova = hyperclovaEmbedding(\n",
    "    host='clovastudio.apigw.ntruss.com',\n",
    "    api_key='your-api-key',\n",
    "    api_key_primary_val='your-api-key-primary-val',\n",
    "    request_id='your-request-id',\n",
    ")\n",
    "\n",
    "embeddings = [hyper_clova.execute({\"text\": doc.page_content}) for doc in docs]\n",
    "\n",
    "# 임베딩 함수 초기화\n",
    "embedding_func = PrecomputedEmbeddings(embeddings, hyper_clova)\n",
    "\n",
    "# FAISS 인덱스 생성\n",
    "vectorstore = FAISS.from_documents(docs, embedding_func)\n",
    "\n",
    "# 검색 수행\n",
    "query = \"클라우드 네이티브 사업의 내용을 설명하세요.\"\n",
    "search_results = vectorstore.similarity_search_with_score(query, k=5)\n",
    "\n",
    "# 결과 출력\n",
    "for doc, score in search_results:\n",
    "    print(f\"Score: {score}\")\n",
    "    print(f\"Content: {doc.page_content}\")\n",
    "    print(f\"Metadata: {doc.metadata}\")\n",
    "    print(\"---\")"
   ]
  }
 ],
 "metadata": {
  "kernelspec": {
   "display_name": "kdb",
   "language": "python",
   "name": "python3"
  },
  "language_info": {
   "codemirror_mode": {
    "name": "ipython",
    "version": 3
   },
   "file_extension": ".py",
   "mimetype": "text/x-python",
   "name": "python",
   "nbconvert_exporter": "python",
   "pygments_lexer": "ipython3",
   "version": "3.11.9"
  }
 },
 "nbformat": 4,
 "nbformat_minor": 2
}
